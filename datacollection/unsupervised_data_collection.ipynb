{
  "nbformat": 4,
  "nbformat_minor": 0,
  "metadata": {
    "colab": {
      "provenance": [],
      "authorship_tag": "ABX9TyOTlBr39m4l4aHpSIrMsxoS",
      "include_colab_link": true
    },
    "kernelspec": {
      "name": "python3",
      "display_name": "Python 3"
    },
    "language_info": {
      "name": "python"
    }
  },
  "cells": [
    {
      "cell_type": "markdown",
      "metadata": {
        "id": "view-in-github",
        "colab_type": "text"
      },
      "source": [
        "<a href=\"https://colab.research.google.com/github/ChaitaliV/generative-explanation/blob/main/datacollection/unsupervised_data_collection.ipynb\" target=\"_parent\"><img src=\"https://colab.research.google.com/assets/colab-badge.svg\" alt=\"Open In Colab\"/></a>"
      ]
    },
    {
      "cell_type": "markdown",
      "source": [
        "### Create Unsupervised Dataset for Generative Transformer\n",
        "* read pdfs and save the data in .txt file.\n",
        "* manually add some more data to it, from blogs and other online resources which are not downloadable.\n",
        "* manually read the data once, and remove text which is not relevant\n",
        "* clean the text\n",
        "* create sentences\n",
        "* create unsupervised learning dataset for generative transformer model by selectively masking words in all sentences"
      ],
      "metadata": {
        "id": "vWKJhyPBQLid"
      }
    },
    {
      "cell_type": "code",
      "execution_count": null,
      "metadata": {
        "id": "lGLjj31tPoVT"
      },
      "outputs": [],
      "source": [
        "import PyPDF2"
      ]
    }
  ]
}